{
 "cells": [
  {
   "cell_type": "code",
   "execution_count": 3,
   "id": "7db97c8e",
   "metadata": {},
   "outputs": [
    {
     "name": "stdout",
     "output_type": "stream",
     "text": [
      "Welcome to rthe Tip Calculator\n",
      "What is your total bill?150\n",
      "What percentage tip you would like to give 10,12 or 15?12\n",
      "How many people to split the bill?5\n",
      "Each person will pay: 33.6\n"
     ]
    }
   ],
   "source": [
    "#Tip Calculator\n",
    "print(\"Welcome to rthe Tip Calculator\")\n",
    "total=int(input(\"What is your total bill?\"))\n",
    "percentage=float(input(\"What percentage tip you would like to give 10,12 or 15?\"))\n",
    "people=int(input(\"How many people to split the bill?\"))\n",
    "bill=total*(percentage/100)\n",
    "total_bill=total+bill\n",
    "each_person=total_bill/people\n",
    "print(\"Each person will pay:\",each_person)"
   ]
  }
 ],
 "metadata": {
  "kernelspec": {
   "display_name": "Python 3 (ipykernel)",
   "language": "python",
   "name": "python3"
  },
  "language_info": {
   "codemirror_mode": {
    "name": "ipython",
    "version": 3
   },
   "file_extension": ".py",
   "mimetype": "text/x-python",
   "name": "python",
   "nbconvert_exporter": "python",
   "pygments_lexer": "ipython3",
   "version": "3.9.12"
  }
 },
 "nbformat": 4,
 "nbformat_minor": 5
}
